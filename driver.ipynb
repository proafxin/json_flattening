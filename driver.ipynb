{
 "cells": [
  {
   "cell_type": "code",
   "execution_count": 1,
   "metadata": {},
   "outputs": [],
   "source": [
    "from os import (\n",
    "    getcwd,\n",
    ")\n",
    "from os.path import (\n",
    "    join,\n",
    ")\n",
    "from json import (\n",
    "    loads,\n",
    ")\n",
    "\n",
    "from flatten_json import flatten"
   ]
  },
  {
   "cell_type": "code",
   "execution_count": 2,
   "metadata": {},
   "outputs": [],
   "source": [
    "pwd = getcwd()\n",
    "#datadir = join(pwd, 'data/')\n",
    "path = join(pwd, 'data.json')\n",
    "f = open(path)\n",
    "data = loads(f.read())"
   ]
  },
  {
   "cell_type": "code",
   "execution_count": 5,
   "metadata": {},
   "outputs": [
    {
     "data": {
      "text/plain": [
       "{'year': 1990,\n",
       " 'movies': [{'name': 'A', 'director': 'AB'},\n",
       "  {'name': 'B', 'actor': 'C'},\n",
       "  {'name': 'D', 'director': 'Director'}],\n",
       " 'extras': [{'A': {'u': 'U'}},\n",
       "  {'B': {'v': 'V'}},\n",
       "  {'A': {'u': 'W'}, 'B': {'v': 'X'}}],\n",
       " 'others': {'c': 'C', 'd': {'e': 'E'}}}"
      ]
     },
     "execution_count": 5,
     "metadata": {},
     "output_type": "execute_result"
    }
   ],
   "source": [
    "data"
   ]
  },
  {
   "cell_type": "code",
   "execution_count": 3,
   "metadata": {},
   "outputs": [],
   "source": [
    "result = flatten(data)"
   ]
  },
  {
   "cell_type": "code",
   "execution_count": 4,
   "metadata": {},
   "outputs": [
    {
     "data": {
      "text/html": [
       "<div>\n",
       "<style scoped>\n",
       "    .dataframe tbody tr th:only-of-type {\n",
       "        vertical-align: middle;\n",
       "    }\n",
       "\n",
       "    .dataframe tbody tr th {\n",
       "        vertical-align: top;\n",
       "    }\n",
       "\n",
       "    .dataframe thead th {\n",
       "        text-align: right;\n",
       "    }\n",
       "</style>\n",
       "<table border=\"1\" class=\"dataframe\">\n",
       "  <thead>\n",
       "    <tr style=\"text-align: right;\">\n",
       "      <th></th>\n",
       "      <th>year</th>\n",
       "      <th>name</th>\n",
       "      <th>director</th>\n",
       "      <th>actor</th>\n",
       "      <th>A.u</th>\n",
       "      <th>B.v</th>\n",
       "      <th>c</th>\n",
       "      <th>d.e</th>\n",
       "    </tr>\n",
       "  </thead>\n",
       "  <tbody>\n",
       "    <tr>\n",
       "      <th>0</th>\n",
       "      <td>1990</td>\n",
       "      <td>A</td>\n",
       "      <td>AB</td>\n",
       "      <td></td>\n",
       "      <td>U</td>\n",
       "      <td></td>\n",
       "      <td>C</td>\n",
       "      <td>E</td>\n",
       "    </tr>\n",
       "    <tr>\n",
       "      <th>1</th>\n",
       "      <td>1990</td>\n",
       "      <td>A</td>\n",
       "      <td>AB</td>\n",
       "      <td></td>\n",
       "      <td></td>\n",
       "      <td>V</td>\n",
       "      <td>C</td>\n",
       "      <td>E</td>\n",
       "    </tr>\n",
       "    <tr>\n",
       "      <th>2</th>\n",
       "      <td>1990</td>\n",
       "      <td>A</td>\n",
       "      <td>AB</td>\n",
       "      <td></td>\n",
       "      <td>W</td>\n",
       "      <td>X</td>\n",
       "      <td>C</td>\n",
       "      <td>E</td>\n",
       "    </tr>\n",
       "    <tr>\n",
       "      <th>3</th>\n",
       "      <td>1990</td>\n",
       "      <td>B</td>\n",
       "      <td></td>\n",
       "      <td>C</td>\n",
       "      <td>U</td>\n",
       "      <td></td>\n",
       "      <td>C</td>\n",
       "      <td>E</td>\n",
       "    </tr>\n",
       "    <tr>\n",
       "      <th>4</th>\n",
       "      <td>1990</td>\n",
       "      <td>B</td>\n",
       "      <td></td>\n",
       "      <td>C</td>\n",
       "      <td></td>\n",
       "      <td>V</td>\n",
       "      <td>C</td>\n",
       "      <td>E</td>\n",
       "    </tr>\n",
       "    <tr>\n",
       "      <th>5</th>\n",
       "      <td>1990</td>\n",
       "      <td>B</td>\n",
       "      <td></td>\n",
       "      <td>C</td>\n",
       "      <td>W</td>\n",
       "      <td>X</td>\n",
       "      <td>C</td>\n",
       "      <td>E</td>\n",
       "    </tr>\n",
       "    <tr>\n",
       "      <th>6</th>\n",
       "      <td>1990</td>\n",
       "      <td>D</td>\n",
       "      <td>Director</td>\n",
       "      <td></td>\n",
       "      <td>U</td>\n",
       "      <td></td>\n",
       "      <td>C</td>\n",
       "      <td>E</td>\n",
       "    </tr>\n",
       "    <tr>\n",
       "      <th>7</th>\n",
       "      <td>1990</td>\n",
       "      <td>D</td>\n",
       "      <td>Director</td>\n",
       "      <td></td>\n",
       "      <td></td>\n",
       "      <td>V</td>\n",
       "      <td>C</td>\n",
       "      <td>E</td>\n",
       "    </tr>\n",
       "    <tr>\n",
       "      <th>8</th>\n",
       "      <td>1990</td>\n",
       "      <td>D</td>\n",
       "      <td>Director</td>\n",
       "      <td></td>\n",
       "      <td>W</td>\n",
       "      <td>X</td>\n",
       "      <td>C</td>\n",
       "      <td>E</td>\n",
       "    </tr>\n",
       "  </tbody>\n",
       "</table>\n",
       "</div>"
      ],
      "text/plain": [
       "   year name  director actor A.u B.v  c d.e\n",
       "0  1990    A        AB         U      C   E\n",
       "1  1990    A        AB             V  C   E\n",
       "2  1990    A        AB         W   X  C   E\n",
       "3  1990    B               C   U      C   E\n",
       "4  1990    B               C       V  C   E\n",
       "5  1990    B               C   W   X  C   E\n",
       "6  1990    D  Director         U      C   E\n",
       "7  1990    D  Director             V  C   E\n",
       "8  1990    D  Director         W   X  C   E"
      ]
     },
     "execution_count": 4,
     "metadata": {},
     "output_type": "execute_result"
    }
   ],
   "source": [
    "result"
   ]
  }
 ],
 "metadata": {
  "kernelspec": {
   "display_name": "Python 3",
   "language": "python",
   "name": "python3"
  },
  "language_info": {
   "codemirror_mode": {
    "name": "ipython",
    "version": 3
   },
   "file_extension": ".py",
   "mimetype": "text/x-python",
   "name": "python",
   "nbconvert_exporter": "python",
   "pygments_lexer": "ipython3",
   "version": "3.7.8"
  }
 },
 "nbformat": 4,
 "nbformat_minor": 4
}
